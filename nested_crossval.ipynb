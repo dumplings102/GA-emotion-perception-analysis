{
 "cells": [
  {
   "cell_type": "code",
   "execution_count": null,
   "id": "28c04921-7b5d-403e-8576-18cbb4338639",
   "metadata": {},
   "outputs": [],
   "source": [
    "#nested cross-validation"
   ]
  },
  {
   "cell_type": "code",
   "execution_count": 11,
   "id": "99fbc298-3810-4da9-b071-d45dd56b88b0",
   "metadata": {},
   "outputs": [],
   "source": [
    "import pandas as pd\n",
    "import numpy as np\n",
    "import matplotlib.pyplot as plt\n",
    "\n",
    "from sklearn.svm import SVC\n",
    "from sklearn import metrics\n",
    "from sklearn.model_selection import train_test_split, GridSearchCV, GroupKFold, cross_val_score\n",
    "from sklearn.metrics import classification_report\n",
    "\n",
    "from scipy.stats import binomtest\n",
    "\n",
    "import seaborn as sns; sns.set(font_scale=1.2)"
   ]
  },
  {
   "cell_type": "code",
   "execution_count": 12,
   "id": "8aaf7ec0-8dde-4bc3-a885-d6921e1e69c7",
   "metadata": {},
   "outputs": [
    {
     "name": "stdout",
     "output_type": "stream",
     "text": [
      "Group\n",
      "HC    504\n",
      "PT    504\n",
      "Name: ID, dtype: int64\n",
      "Group\n",
      "HC    2010\n",
      "PT    1793\n",
      "Name: ID, dtype: int64\n"
     ]
    }
   ],
   "source": [
    "#import data\n",
    "all_df = pd.read_csv('processed_data/all_faces_coded.csv')\n",
    "\n",
    "#iteration elite face sample\n",
    "elite_df = all_df[all_df['eliteSelected']==1]\n",
    "\n",
    "#selected face sample\n",
    "selected_df = all_df[all_df['faceSelected']==1]\n",
    "\n",
    "#filter patient and control samples\n",
    "PT_df=elite_df[elite_df['Group']=='PT']\n",
    "HC_df=elite_df[elite_df['Group']=='HC']\n",
    "\n",
    "print(elite_df.groupby('Group')['ID'].count())\n",
    "print(selected_df.groupby('Group')['ID'].count())"
   ]
  },
  {
   "cell_type": "code",
   "execution_count": 18,
   "id": "16ce5a76-6b09-4b71-8626-24d8f634dd28",
   "metadata": {},
   "outputs": [],
   "source": [
    "#assign features, labels and subject group variable\n",
    "X = elite_df.iloc[:,1:150]\n",
    "y = elite_df['Group']\n",
    "Group = elite_df['ID']"
   ]
  },
  {
   "cell_type": "code",
   "execution_count": 43,
   "id": "48313ef8-babd-4b7e-a625-a755463aad1d",
   "metadata": {},
   "outputs": [
    {
     "ename": "NameError",
     "evalue": "name 'mean' is not defined",
     "output_type": "error",
     "traceback": [
      "\u001b[0;31m---------------------------------------------------------------------------\u001b[0m",
      "\u001b[0;31mNameError\u001b[0m                                 Traceback (most recent call last)",
      "Cell \u001b[0;32mIn[43], line 18\u001b[0m\n\u001b[1;32m     16\u001b[0m scores \u001b[38;5;241m=\u001b[39m cross_val_score(estimator\u001b[38;5;241m=\u001b[39msearch, X\u001b[38;5;241m=\u001b[39mX, y\u001b[38;5;241m=\u001b[39my, groups\u001b[38;5;241m=\u001b[39mGroup, cv\u001b[38;5;241m=\u001b[39mcv_outer, fit_params\u001b[38;5;241m=\u001b[39m{\u001b[38;5;124m'\u001b[39m\u001b[38;5;124mgroups\u001b[39m\u001b[38;5;124m'\u001b[39m: Group}, error_score\u001b[38;5;241m=\u001b[39m\u001b[38;5;124m'\u001b[39m\u001b[38;5;124mraise\u001b[39m\u001b[38;5;124m'\u001b[39m)\n\u001b[1;32m     17\u001b[0m \u001b[38;5;66;03m# report performance\u001b[39;00m\n\u001b[0;32m---> 18\u001b[0m \u001b[38;5;28mprint\u001b[39m(\u001b[38;5;124m'\u001b[39m\u001b[38;5;124mAccuracy: \u001b[39m\u001b[38;5;132;01m%.3f\u001b[39;00m\u001b[38;5;124m (\u001b[39m\u001b[38;5;132;01m%.3f\u001b[39;00m\u001b[38;5;124m)\u001b[39m\u001b[38;5;124m'\u001b[39m \u001b[38;5;241m%\u001b[39m (\u001b[43mmean\u001b[49m(scores), std(scores)))\n",
      "\u001b[0;31mNameError\u001b[0m: name 'mean' is not defined"
     ]
    }
   ],
   "source": [
    "# configure the cross-validation procedure\n",
    "cv_inner = GroupKFold(n_splits=5)\n",
    "# define the model\n",
    "model = SVC(random_state=102)\n",
    "# cross-validation metrics\n",
    "params={ \n",
    "    'kernel': ['rbf'],\n",
    "    'C': [.1,.5,1,10,30,40,50,75,100,500,1000],\n",
    "    'gamma': [.001,.005,.01,.05,.07,.1,.5,1,5,10,50]\n",
    "}\n",
    "# define search\n",
    "search = GridSearchCV(model, params, cv=cv_inner)\n",
    "# configure the cross-validation procedure\n",
    "cv_outer = GroupKFold(n_splits=10)\n",
    "# execute the nested cross-validation\n",
    "scores = cross_val_score(estimator=search, X=X, y=y, groups=Group, cv=cv_outer, fit_params={'groups': Group}, error_score='raise')\n",
    "# report performance\n",
    "print('Accuracy: %.3f (%.3f)' % (mean(scores), std(scores)))"
   ]
  },
  {
   "cell_type": "code",
   "execution_count": 45,
   "id": "766fb01c-b876-4bde-9756-e4c3241677f8",
   "metadata": {},
   "outputs": [
    {
     "data": {
      "text/plain": [
       "array([0.66666667, 0.5       , 0.57291667, 0.63541667, 0.71875   ,\n",
       "       0.53125   , 0.44791667, 0.38541667, 0.60416667, 0.34375   ])"
      ]
     },
     "execution_count": 45,
     "metadata": {},
     "output_type": "execute_result"
    }
   ],
   "source": [
    "scores"
   ]
  }
 ],
 "metadata": {
  "kernelspec": {
   "display_name": "Python 3 (ipykernel)",
   "language": "python",
   "name": "python3"
  },
  "language_info": {
   "codemirror_mode": {
    "name": "ipython",
    "version": 3
   },
   "file_extension": ".py",
   "mimetype": "text/x-python",
   "name": "python",
   "nbconvert_exporter": "python",
   "pygments_lexer": "ipython3",
   "version": "3.12.1"
  }
 },
 "nbformat": 4,
 "nbformat_minor": 5
}
